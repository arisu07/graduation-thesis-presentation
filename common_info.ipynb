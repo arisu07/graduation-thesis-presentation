{
 "cells": [
  {
   "cell_type": "markdown",
   "metadata": {},
   "source": [
    "## Общая для всех файлов информация."
   ]
  },
  {
   "cell_type": "markdown",
   "metadata": {},
   "source": [
    "### Входные параметры."
   ]
  },
  {
   "cell_type": "code",
   "execution_count": null,
   "metadata": {},
   "outputs": [],
   "source": [
    "graduationWorkPDFFile = \"\" # *путь до файла с ВКР*"
   ]
  },
  {
   "cell_type": "code",
   "execution_count": null,
   "metadata": {},
   "outputs": [],
   "source": [
    "pagesWithTablesNumbers = () # *cписок или кортеж с номерами страниц, содержащими таблицы*\n",
    "listMarkers = set(['•', '\\uf0b7', 'o', '•']) # множество можно дополнить маркерами списка, использованными в работе"
   ]
  },
  {
   "cell_type": "markdown",
   "metadata": {},
   "source": [
    "### Внутренние параметры."
   ]
  },
  {
   "cell_type": "code",
   "execution_count": null,
   "metadata": {},
   "outputs": [],
   "source": [
    "import os, shutil\n",
    "\n",
    "def cleanDirectory(folder):\n",
    "    for fileName in os.listdir(folder):\n",
    "        filePath = os.path.join(folder, fileName)\n",
    "        try:\n",
    "            if os.path.isfile(filePath) or os.path.islink(filePath):\n",
    "                os.unlink(filePath)\n",
    "            elif os.path.isdir(filePath):\n",
    "                shutil.rmtree(filePath)\n",
    "        except Exception as e:\n",
    "            print('Failed to delete %s. Reason: %s' % (filePath, e))"
   ]
  },
  {
   "cell_type": "code",
   "execution_count": null,
   "metadata": {},
   "outputs": [],
   "source": [
    "from pathlib import Path\n",
    "from PyPDF2 import PdfFileReader\n",
    "\n",
    "temporaryFilesFolder = \"temp/\"\n",
    "graduationWorkXMLFile = graduationWorkPDFFile[:-4] + \".xml\"\n",
    "graduationWorkTablesFolder = graduationWorkPDFFile[:-4] + \"_tables/\"\n",
    "graduationWorkImagesFolder = graduationWorkPDFFile[:-4] + \"_images/\"\n",
    "presentationFile = graduationWorkPDFFile[:-4] + \".pptx\"\n",
    "\n",
    "Path(temporaryFilesFolder).mkdir(parents=True, exist_ok=True)\n",
    "# cleanDirectory(temporaryFilesFolder)\n",
    "Path(graduationWorkTablesFolder).mkdir(parents=True, exist_ok=True)\n",
    "# cleanDirectory(graduationWorkTablesFolder)\n",
    "Path(graduationWorkImagesFolder).mkdir(parents=True, exist_ok=True)\n",
    "# cleanDirectory(graduationWorkImagesFolder)"
   ]
  },
  {
   "cell_type": "code",
   "execution_count": null,
   "metadata": {},
   "outputs": [],
   "source": [
    "maxPages = 0\n",
    "\n",
    "with open(graduationWorkPDFFile, \"rb\") as graduationWork:\n",
    "    maxPages = PdfFileReader(graduationWork).numPages"
   ]
  },
  {
   "cell_type": "code",
   "execution_count": null,
   "metadata": {},
   "outputs": [],
   "source": [
    "numbers = set('0123456789')\n",
    "numbersAndPoint = numbers.union(set(['.', ')']))\n",
    "russianLetters = set('абвгдеёжзийклмнопрстуфхцчшщъыьэюя')\n",
    "russianUpperLetters = set('абвгдеёжзийклмнопрстуфхцчшщъыьэюя'.upper())\n",
    "englishLetters = set('abcdefghijklmnopqrstuvwxyz')\n",
    "englishUpperLetters = set('abcdefghijklmnopqrstuvwxyz'.upper())\n",
    "letters = russianLetters.union(englishLetters)\n",
    "imageReferencesPattern = 'рис|рисунок'\n",
    "tableReferencesPattern = 'таблица|табла|таб'"
   ]
  }
 ],
 "metadata": {
  "kernelspec": {
   "display_name": "Python 3",
   "language": "python",
   "name": "python3"
  },
  "language_info": {
   "codemirror_mode": {
    "name": "ipython",
    "version": 3
   },
   "file_extension": ".py",
   "mimetype": "text/x-python",
   "name": "python",
   "nbconvert_exporter": "python",
   "pygments_lexer": "ipython3",
   "version": "3.5.2"
  }
 },
 "nbformat": 4,
 "nbformat_minor": 2
}

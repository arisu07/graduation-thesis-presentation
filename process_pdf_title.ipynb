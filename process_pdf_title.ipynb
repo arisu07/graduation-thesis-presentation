{
 "cells": [
  {
   "cell_type": "markdown",
   "metadata": {},
   "source": [
    "## Обрабатываем титульную страницу."
   ]
  },
  {
   "cell_type": "code",
   "execution_count": null,
   "metadata": {},
   "outputs": [],
   "source": [
    "if __name__ == '__main__' and '__file__' not in globals():\n",
    "    %reset"
   ]
  },
  {
   "cell_type": "code",
   "execution_count": null,
   "metadata": {},
   "outputs": [],
   "source": [
    "if __name__ == '__main__' and '__file__' not in globals():\n",
    "    %run common_info.ipynb"
   ]
  },
  {
   "cell_type": "markdown",
   "metadata": {},
   "source": [
    "### Извлекаем содержимое титульной страницы."
   ]
  },
  {
   "cell_type": "code",
   "execution_count": null,
   "metadata": {},
   "outputs": [],
   "source": [
    "import io\n",
    "from pdfminer.converter import TextConverter\n",
    "from pdfminer.pdfinterp import PDFPageInterpreter\n",
    "from pdfminer.pdfinterp import PDFResourceManager\n",
    "from pdfminer.pdfpage import PDFPage\n",
    "from pdfminer.layout import LAParams\n",
    "import re\n",
    "\n",
    " \n",
    "def parseTitlePage(graduationWorkPDFFile):\n",
    "    laparams = LAParams()\n",
    "    setattr(laparams, 'all_texts', True)\n",
    "    \n",
    "    with open(graduationWorkPDFFile, 'rb') as fh:\n",
    "        titlePage = next(PDFPage.get_pages(fh, caching=True, check_extractable=True))\n",
    "            \n",
    "        resourceManager = PDFResourceManager()\n",
    "        fakeFileHandle = io.StringIO()\n",
    "        # codec = 'windows-1252'\n",
    "        converter = TextConverter(resourceManager, fakeFileHandle, laparams=laparams)\n",
    "        pageInterpreter = PDFPageInterpreter(resourceManager, converter)\n",
    "        pageInterpreter.process_page(titlePage)\n",
    " \n",
    "        text = fakeFileHandle.getvalue()\n",
    "        while text.find('  ') != -1:\n",
    "            text = text.replace('  ', ' ')\n",
    "        while text.find(' \\n') != -1:\n",
    "            text = text.replace(' \\n', '\\n')\n",
    "        while text.find('\\n\\n') != -1:\n",
    "            text = text.replace('\\n\\n', '\\n')\n",
    " \n",
    "        converter.close()\n",
    "        fakeFileHandle.close()\n",
    "        \n",
    "        return text"
   ]
  },
  {
   "cell_type": "code",
   "execution_count": null,
   "metadata": {},
   "outputs": [],
   "source": [
    "titlePageText = parseTitlePage(graduationWorkPDFFile)\n",
    "\n",
    "if __name__ == '__main__' and '__file__' not in globals():\n",
    "    print(titlePageText)"
   ]
  },
  {
   "cell_type": "markdown",
   "metadata": {},
   "source": [
    "### Обрабатываем содержимое титульной страницы."
   ]
  },
  {
   "cell_type": "code",
   "execution_count": null,
   "metadata": {},
   "outputs": [],
   "source": [
    "def processTitlePage(titlePageText):\n",
    "    titlePageTemplate  = \"Московский государственный университет имени М.В. Ломоносова\\n\"\n",
    "    titlePageTemplate += \"Факультет вычислительной математики и кибернетики\\n\"\n",
    "                         # Название кафедры\n",
    "                         # Фамилия Имя Отчество студента\n",
    "                         # Название работы, 1-2-3 строки\n",
    "    titlePageTemplate += \"ВЫПУСКНАЯ КВАЛИФИКАЦИОННАЯ РАБОТА\\n\"\n",
    "                         # или \"МАГИСТЕРСКАЯ ДИССЕРТАЦИЯ\"\n",
    "    titlePageTemplate += \"Научный руководитель:\\n\"\n",
    "                         # должность научного руководителя\n",
    "                         # Фамилия Имя Отчество научного руководителя\n",
    "    titlePageTemplate += \"Москва,\" # + *год защиты работы*\n",
    "\n",
    "    titlePageDict = {\"university\": \"Московский государственный университет имени М.В. Ломоносова\",\n",
    "                     \"faculty\": \"Факультет вычислительной математики и кибернетики\",\n",
    "                     # Название кафедры\n",
    "                     # Фамилия Имя Отчество студента\n",
    "                     # Название работы, 1-2-3 строки\n",
    "                     \"workType\": \"ВЫПУСКНАЯ КВАЛИФИКАЦИОННАЯ РАБОТА\",\n",
    "                     # \"workType\": \"МАГИСТЕРСКАЯ ДИССЕРТАЦИЯ\\n\",\n",
    "                     \"scientificDirectorMarker\": \"Научный руководитель:\",\n",
    "                     # должность научного руководителя\n",
    "                     # Фамилия Имя Отчество научного руководителя\n",
    "                     \"cityAndYear\": \"Москва,\"} # + *год защиты работы*\n",
    "\n",
    "    for key in titlePageDict.keys():\n",
    "        if key == \"cityAndYear\":\n",
    "            titlePageText = titlePageText[0:titlePageText.find(titlePageDict[key])-1]\n",
    "\n",
    "    titlePageTextByLine = titlePageText.split('\\n')\n",
    "    titlePageDict['department'] = titlePageTextByLine[2]\n",
    "    titlePageDict['nameAndSurname'] = titlePageTextByLine[3]\n",
    "    titlePageDict['scitificDirectorNameAndSurname'] = titlePageTextByLine[-1]\n",
    "    titlePageDict['scitificDirectorPosition'] = titlePageTextByLine[-2]\n",
    "    titlePageTextByLine = titlePageTextByLine[4:-4]\n",
    "\n",
    "    for workTitleLine in titlePageTextByLine:\n",
    "        if 'workTitle' not in titlePageDict.keys():\n",
    "            titlePageDict['workTitle'] = workTitleLine\n",
    "        else:\n",
    "            titlePageDict['workTitle'] += ' ' + workTitleLine\n",
    "\n",
    "    return titlePageDict"
   ]
  },
  {
   "cell_type": "code",
   "execution_count": null,
   "metadata": {},
   "outputs": [],
   "source": [
    "from pprint import pprint\n",
    "\n",
    "titlePageDict = processTitlePage(titlePageText)\n",
    "\n",
    "if __name__ == '__main__' and '__file__' not in globals():\n",
    "    pprint(titlePageDict)"
   ]
  }
 ],
 "metadata": {
  "kernelspec": {
   "display_name": "Python 3",
   "language": "python",
   "name": "python3"
  },
  "language_info": {
   "codemirror_mode": {
    "name": "ipython",
    "version": 3
   },
   "file_extension": ".py",
   "mimetype": "text/x-python",
   "name": "python",
   "nbconvert_exporter": "python",
   "pygments_lexer": "ipython3",
   "version": "3.5.2"
  }
 },
 "nbformat": 4,
 "nbformat_minor": 2
}

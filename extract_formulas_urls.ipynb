{
 "cells": [
  {
   "cell_type": "markdown",
   "metadata": {},
   "source": [
    "## Вытаскиваем формулы и URL-ы."
   ]
  },
  {
   "cell_type": "code",
   "execution_count": null,
   "metadata": {},
   "outputs": [],
   "source": [
    "if __name__ == '__main__' and '__file__' not in globals():\n",
    "    %reset"
   ]
  },
  {
   "cell_type": "code",
   "execution_count": null,
   "metadata": {},
   "outputs": [],
   "source": [
    "if __name__ == '__main__' and '__file__' not in globals():\n",
    "    %run common_info.ipynb"
   ]
  },
  {
   "cell_type": "code",
   "execution_count": null,
   "metadata": {},
   "outputs": [],
   "source": [
    "%run extract_images_tables_captions.ipynb"
   ]
  },
  {
   "cell_type": "markdown",
   "metadata": {},
   "source": [
    "### Ищем все урлы, потому что потом из-за них неправильно бьются предложения."
   ]
  },
  {
   "cell_type": "code",
   "execution_count": null,
   "metadata": {},
   "outputs": [],
   "source": [
    "import re\n",
    "\n",
    "def searchURLs(pageObjectsByY1List):\n",
    "    urls = []\n",
    "    urlPattern = re.compile(r'(?i)\\b((?:https?:(?:/{1,3}|[a-z0-9%])|[a-z0-9.\\-]+[.](?:com|net|org|edu|gov|mil|aero|asia|biz|cat|coop|info|int|jobs|mobi|museum|name|post|pro|tel|travel|xxx|ac|ad|ae|af|ag|ai|al|am|an|ao|aq|ar|as|at|au|aw|ax|az|ba|bb|bd|be|bf|bg|bh|bi|bj|bm|bn|bo|br|bs|bt|bv|bw|by|bz|ca|cc|cd|cf|cg|ch|ci|ck|cl|cm|cn|co|cr|cs|cu|cv|cx|cy|cz|dd|de|dj|dk|dm|do|dz|ec|ee|eg|eh|er|es|et|eu|fi|fj|fk|fm|fo|fr|ga|gb|gd|ge|gf|gg|gh|gi|gl|gm|gn|gp|gq|gr|gs|gt|gu|gw|gy|hk|hm|hn|hr|ht|hu|id|ie|il|im|in|io|iq|ir|is|it|je|jm|jo|jp|ke|kg|kh|ki|km|kn|kp|kr|kw|ky|kz|la|lb|lc|li|lk|lr|ls|lt|lu|lv|ly|ma|mc|md|me|mg|mh|mk|ml|mm|mn|mo|mp|mq|mr|ms|mt|mu|mv|mw|mx|my|mz|na|nc|ne|nf|ng|ni|nl|no|np|nr|nu|nz|om|pa|pe|pf|pg|ph|pk|pl|pm|pn|pr|ps|pt|pw|py|qa|re|ro|rs|ru|rw|sa|sb|sc|sd|se|sg|sh|si|sj|Ja|sk|sl|sm|sn|so|sr|ss|st|su|sv|sx|sy|sz|tc|td|tf|tg|th|tj|tk|tl|tm|tn|to|tp|tr|tt|tv|tw|tz|ua|ug|uk|us|uy|uz|va|vc|ve|vg|vi|vn|vu|wf|ws|ye|yt|yu|za|zm|zw)/)(?:[^\\s()<>{}\\[\\]]+|\\([^\\s()]*?\\([^\\s()]+\\)[^\\s()]*?\\)|\\([^\\s]+?\\))+(?:\\([^\\s()]*?\\([^\\s()]+\\)[^\\s()]*?\\)|\\([^\\s]+?\\)|[^\\s`!()\\[\\]{};:\\'\".,<>?«»“”‘’])|(?:(?<!@)[a-z0-9]+(?:[.\\-][a-z0-9]+)*[.](?:com|net|org|edu|gov|mil|aero|asia|biz|cat|coop|info|int|jobs|mobi|museum|name|post|pro|tel|travel|xxx|ac|ad|ae|af|ag|ai|al|am|an|ao|aq|ar|as|at|au|aw|ax|az|ba|bb|bd|be|bf|bg|bh|bi|bj|bm|bn|bo|br|bs|bt|bv|bw|by|bz|ca|cc|cd|cf|cg|ch|ci|ck|cl|cm|cn|co|cr|cs|cu|cv|cx|cy|cz|dd|de|dj|dk|dm|do|dz|ec|ee|eg|eh|er|es|et|eu|fi|fj|fk|fm|fo|fr|ga|gb|gd|ge|gf|gg|gh|gi|gl|gm|gn|gp|gq|gr|gs|gt|gu|gw|gy|hk|hm|hn|hr|ht|hu|id|ie|il|im|in|io|iq|ir|is|it|je|jm|jo|jp|ke|kg|kh|ki|km|kn|kp|kr|kw|ky|kz|la|lb|lc|li|lk|lr|ls|lt|lu|lv|ly|ma|mc|md|me|mg|mh|mk|ml|mm|mn|mo|mp|mq|mr|ms|mt|mu|mv|mw|mx|my|mz|na|nc|ne|nf|ng|ni|nl|no|np|nr|nu|nz|om|pa|pe|pf|pg|ph|pk|pl|pm|pn|pr|ps|pt|pw|py|qa|re|ro|rs|ru|rw|sa|sb|sc|sd|se|sg|sh|si|sj|Ja|sk|sl|sm|sn|so|sr|ss|st|su|sv|sx|sy|sz|tc|td|tf|tg|th|tj|tk|tl|tm|tn|to|tp|tr|tt|tv|tw|tz|ua|ug|uk|us|uy|uz|va|vc|ve|vg|vi|vn|vu|wf|ws|ye|yt|yu|za|zm|zw)\\b/?(?!@)))')\n",
    "    \n",
    "    for pageObjectsByY1 in pageObjectsByY1List:\n",
    "        for y1, pageObjects in pageObjectsByY1.items():\n",
    "            for pageObject in pageObjects:         \n",
    "                if isinstance(pageObject['object'], LTTextBox):\n",
    "                    urls += urlPattern.findall(pageObject['object'].get_text())\n",
    "        \n",
    "    return urls"
   ]
  },
  {
   "cell_type": "code",
   "execution_count": null,
   "metadata": {},
   "outputs": [],
   "source": [
    "urls = searchURLs(pageObjectsByY1List)\n",
    "\n",
    "if __name__ == '__main__' and '__file__' not in globals():\n",
    "    print(urls)"
   ]
  },
  {
   "cell_type": "markdown",
   "metadata": {},
   "source": [
    "### Извлекаем из текста все необычные символы. Возможно, это пригодится при идентификации формул."
   ]
  },
  {
   "cell_type": "code",
   "execution_count": null,
   "metadata": {},
   "outputs": [],
   "source": [
    "from string import punctuation, whitespace\n",
    "import re\n",
    "\n",
    "usualSymbols = russianLetters.union(englishLetters)\\\n",
    "                             .union(russianUpperLetters)\\\n",
    "                             .union(englishUpperLetters)\\\n",
    "                             .union(numbers)\\\n",
    "                             .union(set(punctuation))\\\n",
    "                             .union(set(whitespace))\\\n",
    "                             .union(listMarkers)\n",
    "\n",
    "def extractUnusualSymbols(pageObjectsByY1List):\n",
    "    usedSymbols = set()\n",
    "    \n",
    "    for pageObjectsByY1 in pageObjectsByY1List:\n",
    "        for y1, pageObjects in pageObjectsByY1.items():\n",
    "            for pageObject in pageObjects:         \n",
    "                if isinstance(pageObject['object'], LTTextBox):\n",
    "                    # потому что это известные символы, которые неверно распознаются\n",
    "                    objectText = pageObject['object'].get_text().replace('(cid:22)', '-').replace('(cid:88)\\n', '').replace('(cid:190)', '«').replace('¿', '»')\n",
    "                    cidSymbols = re.findall(r'\\(cid:\\d+\\)', objectText)\n",
    "                    usedSymbols = usedSymbols.union(set(re.sub(r'\\(cid:\\d+\\)', '', objectText))).union(set(cidSymbols))\n",
    "        \n",
    "    return usedSymbols.difference(usualSymbols)"
   ]
  },
  {
   "cell_type": "code",
   "execution_count": null,
   "metadata": {},
   "outputs": [],
   "source": [
    "unusualSymbols = extractUnusualSymbols(pageObjectsByY1List)\n",
    "\n",
    "if __name__ == '__main__' and '__file__' not in globals():\n",
    "    print(unusualSymbols)"
   ]
  },
  {
   "cell_type": "markdown",
   "metadata": {},
   "source": [
    "### Пытаемся найти и отметить формулы. Алгоритм основан на эвристиках, некоторые формулы не отмечает. Отмечает ошибочно части в списке литературы (хотя список литературы не входит в презентацию, так что это приемлемо)."
   ]
  },
  {
   "cell_type": "code",
   "execution_count": null,
   "metadata": {},
   "outputs": [],
   "source": [
    "from string import punctuation, whitespace\n",
    "import re\n",
    "\n",
    "# формула не содежит букв русского алфавита!\n",
    "# пусть формула содержит минимум 19% пунктуации, 12% пробельных символов, 12% букв английского языка\n",
    "# или больше 40% пунктуации (или необычных символов) и больше 40% букв английского языка\n",
    "# или больше 24% пунктуации и необычных символов и больше 40% букв английского языка\n",
    "# или больше 90% необычных символов\n",
    "# или больше 50% пунктуации и необычных символов\n",
    "def markFormulas(pageObjectsByY1List, unusualSymbols):\n",
    "    formulas = []\n",
    "    \n",
    "    for pageObjectsByY1 in pageObjectsByY1List:\n",
    "        for y1, pageObjects in pageObjectsByY1.items():\n",
    "            for pageObject in pageObjects:         \n",
    "                if isinstance(pageObject['object'], LTTextBox):\n",
    "                    objectTextByLineFeed = pageObject['object'].get_text().split('\\n')\n",
    "                    objectTextByLineFeed = list(filter(None, objectTextByLineFeed))\n",
    "                    \n",
    "                    for objectTextPart in objectTextByLineFeed:\n",
    "                        objectTextPartCopy = objectTextPart.replace('(cid:22)', '-').replace('(cid:88)\\n', '').replace('(cid:190)', '«').replace('¿', '»')\n",
    "#                         for us in unusualSymbols:\n",
    "#                             objectTextPartCopy = objectTextPartCopy.replace(us, '')\n",
    "\n",
    "                        if objectTextPartCopy != '':\n",
    "                            objectTextPartLen = len(objectTextPartCopy)\n",
    "                            russianLettersPercent = len(re.findall(r'[' + re.escape('абвгдеёжзийклмнопрстуфхцчшщъыьэюя') + re.escape('абвгдеёжзийклмнопрстуфхцчшщъыьэюя'.upper()) + r']', \n",
    "                                                                   objectTextPartCopy)) / objectTextPartLen * 100\n",
    "                            unusualPercent = len(re.findall(r'' + unusualSymbols + r'', \n",
    "                                                            objectTextPartCopy)) / objectTextPartLen * 100\n",
    "                            punctuationPercent = len(re.findall(r'[' + re.escape(punctuation) + r']', \n",
    "                                                                objectTextPartCopy)) / objectTextPartLen * 100\n",
    "                            whitespacePercent = len(re.findall(r'[' + re.escape(whitespace) + r']', \n",
    "                                                               objectTextPartCopy)) / objectTextPartLen * 100\n",
    "                            englishLettersPercent = len(re.findall(r'[' + re.escape('abcdefghijklmnopqrstuvwxyz') + re.escape('abcdefghijklmnopqrstuvwxyz'.upper()) + r']', \n",
    "                                                                   objectTextPartCopy)) / objectTextPartLen * 100\n",
    "                            if (russianLettersPercent > 0.0):\n",
    "                                continue\n",
    "                            if (punctuationPercent >= 19.0 and whitespacePercent >= 12.0 and englishLettersPercent >= 12.0) or\\\n",
    "                               (punctuationPercent >= 40.0 and englishLettersPercent >= 40.0) or \\\n",
    "                               (unusualPercent >= 40.0 and englishLettersPercent >= 40.0) or \\\n",
    "                               (punctuationPercent+unusualPercent >= 24.0 and englishLettersPercent >= 25.0) or \\\n",
    "                               unusualPercent >= 90.0 or \\\n",
    "                               punctuationPercent+unusualPercent >= 50.0:\n",
    "                                formulas.append(objectTextPart)\n",
    "                                if len(objectTextByLineFeed) == 1:\n",
    "                                    pageObject['label'] = 'formula'\n",
    "                                else:\n",
    "                                    pageObject['label'] = 'contains formula'\n",
    "                                    if len(list(filter(lambda textPart: textPart == '' or textPart in formulas, objectTextByLineFeed))) == len(objectTextByLineFeed):\n",
    "                                        pageObject['label'] = 'formula'\n",
    "                                    \n",
    "    return pageObjectsByY1List, formulas"
   ]
  },
  {
   "cell_type": "code",
   "execution_count": null,
   "metadata": {},
   "outputs": [],
   "source": [
    "from pprint import pprint\n",
    "import re\n",
    "\n",
    "formulas = []\n",
    "# pageObjectsByY1List, formulas = markFormulas(pageObjectsByY1List, '|'.join(re.escape(symbol) for symbol in unusualSymbols))\n",
    "\n",
    "if __name__ == '__main__' and '__file__' not in globals():\n",
    "    pprint(formulas)"
   ]
  }
 ],
 "metadata": {
  "kernelspec": {
   "display_name": "Python 3",
   "language": "python",
   "name": "python3"
  },
  "language_info": {
   "codemirror_mode": {
    "name": "ipython",
    "version": 3
   },
   "file_extension": ".py",
   "mimetype": "text/x-python",
   "name": "python",
   "nbconvert_exporter": "python",
   "pygments_lexer": "ipython3",
   "version": "3.5.2"
  }
 },
 "nbformat": 4,
 "nbformat_minor": 2
}

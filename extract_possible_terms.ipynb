{
 "cells": [
  {
   "cell_type": "markdown",
   "metadata": {},
   "source": [
    "## Извлекаем слова и словосочетания, которые похожи на термины."
   ]
  },
  {
   "cell_type": "markdown",
   "metadata": {},
   "source": [
    "### Извлекаем все шрифты и размеры шрифтов, задействованные в работе."
   ]
  },
  {
   "cell_type": "code",
   "execution_count": null,
   "metadata": {},
   "outputs": [],
   "source": [
    "if __name__ == '__main__' and '__file__' not in globals():\n",
    "    %reset"
   ]
  },
  {
   "cell_type": "code",
   "execution_count": null,
   "metadata": {},
   "outputs": [],
   "source": [
    "if __name__ == '__main__' and '__file__' not in globals():\n",
    "    %run common_info.ipynb"
   ]
  },
  {
   "cell_type": "markdown",
   "metadata": {},
   "source": [
    "#### Здесь генерируется xml-файл, но в Jupyter Notebook это почему-то не работает.\n",
    "\n",
    "Можно заменить командой в командной строке:\n",
    "<code>pdf2txt.py -o *graduationWorkXMLFile* *graduationWorkPDFFile*</code>. Генерировать нужно в папку с исходным файлом."
   ]
  },
  {
   "cell_type": "code",
   "execution_count": null,
   "metadata": {},
   "outputs": [],
   "source": [
    "import subprocess\n",
    "\n",
    "if __name__ == '__main__' and '__file__' not in globals():\n",
    "    subprocess.check_call([\"pdf2txt.py\", \"-o\", graduationWorkXMLFile, graduationWorkPDFFile])"
   ]
  },
  {
   "cell_type": "code",
   "execution_count": null,
   "metadata": {},
   "outputs": [],
   "source": [
    "import xml.etree.ElementTree as etree\n",
    "from decimal import Decimal, getcontext\n",
    "from collections import Counter\n",
    " \n",
    "def getTextFontsAndSizes(graduationWorkXMLFile):\n",
    "    getcontext().rounding = 'ROUND_HALF_UP'\n",
    "    \n",
    "    with open(graduationWorkXMLFile, 'r') as graduationWork:\n",
    "        xmlTree = etree.parse(graduationWork)        \n",
    "        \n",
    "        textFonts = Counter()\n",
    "        textSizes = Counter()\n",
    "#       считаем самый частый шрифт (предположительно шрифт основного текста) и\n",
    "#       самый частый размер шрифта (предположительно размер шрифта основного текста) \n",
    "        for page in xmlTree.getroot():\n",
    "            for textbox in page:\n",
    "                for textline in textbox:\n",
    "                    for text in textline:\n",
    "                        if 'font' in text.attrib:\n",
    "                            textFonts[text.attrib['font']] += 1\n",
    "                        if 'size' in text.attrib:\n",
    "                            roundedSize = float(Decimal(text.attrib['size']).quantize(Decimal('.0')))\n",
    "                            totalRoundedSize = int(Decimal(text.attrib['size']).quantize(Decimal('1')))\n",
    "                            textSizes[roundedSize if roundedSize - int(roundedSize) == 0.5 else totalRoundedSize] += 1\n",
    "        \n",
    "    return textFonts, textSizes"
   ]
  },
  {
   "cell_type": "code",
   "execution_count": null,
   "metadata": {},
   "outputs": [],
   "source": [
    "textFonts, textSizes = getTextFontsAndSizes(graduationWorkXMLFile)\n",
    "\n",
    "mostCommonTextFont = textFonts.most_common(1)[0][0]\n",
    "mostCommonTextSize = textSizes.most_common(1)[0][0]\n",
    "\n",
    "if __name__ == '__main__' and '__file__' not in globals():\n",
    "    print(mostCommonTextFont, mostCommonTextSize)"
   ]
  },
  {
   "cell_type": "markdown",
   "metadata": {},
   "source": [
    "### Извлекаем все слова и словосочения, которые как-то выделены в работе среди основного текста."
   ]
  },
  {
   "cell_type": "code",
   "execution_count": null,
   "metadata": {},
   "outputs": [],
   "source": [
    "import xml.etree.ElementTree as etree\n",
    "from decimal import Decimal, getcontext\n",
    "from collections import Counter\n",
    "from string import punctuation\n",
    "\n",
    "def extractTerms(graduationWorkXMLFile, mostCommonTextSize, mostCommonTextFont):\n",
    "    getcontext().rounding = 'ROUND_HALF_UP'\n",
    "    \n",
    "    terms = []\n",
    "    with open(graduationWorkXMLFile, 'r') as graduationWork:\n",
    "        xmlTree = etree.parse(graduationWork)  \n",
    "        \n",
    "        term = ''\n",
    "#       вытаскиваем предположительные термины из текста (смотрим на вариации самого популярного шрифта: Bold, Italic)\n",
    "        for page in xmlTree.getroot():\n",
    "            for textbox in page:\n",
    "                for textline in textbox:\n",
    "                    for text in textline:\n",
    "                        if 'font' in text.attrib and 'size' in text.attrib:\n",
    "                            roundedSize = float(Decimal(text.attrib['size']).quantize(Decimal('.0')))\n",
    "                            totalRoundedSize = int(Decimal(text.attrib['size']).quantize(Decimal('1')))\n",
    "                            symbolSize = roundedSize if roundedSize - int(roundedSize) == 0.5 else totalRoundedSize\n",
    "                            \n",
    "                            if (symbolSize == mostCommonTextSize and \\\n",
    "                                (text.attrib['font'].find('Italic') != -1 or \\\n",
    "                                 text.attrib['font'].find('Bold') != -1) and \\\n",
    "                                text.attrib['font'].find(mostCommonTextFont) != -1) or \\\n",
    "                                text.text in punctuation+' ':\n",
    "                                term += text.text\n",
    "                            elif text.text == '\\n':\n",
    "                                term += ' '\n",
    "                            else:\n",
    "                                term = term.strip()\n",
    "                                if term != '' and term[0] not in punctuation:\n",
    "                                    terms.append(term)\n",
    "                                term = ''\n",
    "    return terms"
   ]
  },
  {
   "cell_type": "code",
   "execution_count": null,
   "metadata": {},
   "outputs": [],
   "source": [
    "terms = extractTerms(graduationWorkXMLFile, mostCommonTextSize, mostCommonTextFont)\n",
    "\n",
    "if __name__ == '__main__' and '__file__' not in globals():\n",
    "    print(terms)"
   ]
  }
 ],
 "metadata": {
  "kernelspec": {
   "display_name": "Python 3",
   "language": "python",
   "name": "python3"
  },
  "language_info": {
   "codemirror_mode": {
    "name": "ipython",
    "version": 3
   },
   "file_extension": ".py",
   "mimetype": "text/x-python",
   "name": "python",
   "nbconvert_exporter": "python",
   "pygments_lexer": "ipython3",
   "version": "3.5.2"
  }
 },
 "nbformat": 4,
 "nbformat_minor": 2
}
